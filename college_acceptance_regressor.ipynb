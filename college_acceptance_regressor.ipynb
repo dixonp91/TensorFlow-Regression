{
  "nbformat": 4,
  "nbformat_minor": 0,
  "metadata": {
    "colab": {
      "name": "college_acceptance_regressor.ipynb",
      "provenance": [],
      "collapsed_sections": [],
      "authorship_tag": "ABX9TyOB2wz764R10ZvAADQZIqLc",
      "include_colab_link": true
    },
    "kernelspec": {
      "name": "python3",
      "display_name": "Python 3"
    },
    "language_info": {
      "name": "python"
    },
    "accelerator": "GPU"
  },
  "cells": [
    {
      "cell_type": "markdown",
      "metadata": {
        "id": "view-in-github",
        "colab_type": "text"
      },
      "source": [
        "<a href=\"https://colab.research.google.com/github/dixonp91/TensorFlow-Regression/blob/main/college_acceptance_regressor.ipynb\" target=\"_parent\"><img src=\"https://colab.research.google.com/assets/colab-badge.svg\" alt=\"Open In Colab\"/></a>"
      ]
    },
    {
      "cell_type": "markdown",
      "metadata": {
        "id": "-UD2_STIJoER"
      },
      "source": [
        "Codecademy Deep Learning Regression Project"
      ]
    },
    {
      "cell_type": "code",
      "metadata": {
        "id": "qlYUulzBJtl6"
      },
      "source": [
        "import pandas as pd\n",
        "import numpy as np\n",
        "import matplotlib.pyplot as plt\n",
        "\n",
        "import tensorflow as tf\n",
        "from tensorflow\timport keras\n",
        "from tensorflow.keras.models import Sequential\n",
        "from tensorflow.keras.callbacks import EarlyStopping\n",
        "from tensorflow.keras import layers\n",
        "from tensorflow.keras.layers import Dense\n",
        "\n",
        "from sklearn.model_selection import train_test_split\n",
        "from sklearn.preprocessing import StandardScaler\n",
        "from sklearn.preprocessing import Normalizer\n",
        "from sklearn.metrics import r2_score"
      ],
      "execution_count": null,
      "outputs": []
    },
    {
      "cell_type": "code",
      "metadata": {
        "colab": {
          "resources": {
            "http://localhost:8080/nbextensions/google.colab/files.js": {
              "data": "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",
              "ok": true,
              "headers": [
                [
                  "content-type",
                  "application/javascript"
                ]
              ],
              "status": 200,
              "status_text": ""
            }
          },
          "base_uri": "https://localhost:8080/",
          "height": 72
        },
        "id": "o3Vo-8IvJ1-7",
        "outputId": "da4f8a4a-9bd2-4a11-8415-a4fc0eed75fd"
      },
      "source": [
        "from google.colab import files\n",
        "upload = files.upload()"
      ],
      "execution_count": null,
      "outputs": [
        {
          "output_type": "display_data",
          "data": {
            "text/html": [
              "\n",
              "     <input type=\"file\" id=\"files-32ebac39-7156-4f7c-b40b-bc554daccde1\" name=\"files[]\" multiple disabled\n",
              "        style=\"border:none\" />\n",
              "     <output id=\"result-32ebac39-7156-4f7c-b40b-bc554daccde1\">\n",
              "      Upload widget is only available when the cell has been executed in the\n",
              "      current browser session. Please rerun this cell to enable.\n",
              "      </output>\n",
              "      <script src=\"/nbextensions/google.colab/files.js\"></script> "
            ],
            "text/plain": [
              "<IPython.core.display.HTML object>"
            ]
          },
          "metadata": {
            "tags": []
          }
        },
        {
          "output_type": "stream",
          "text": [
            "Saving admissions_data.csv to admissions_data.csv\n"
          ],
          "name": "stdout"
        }
      ]
    },
    {
      "cell_type": "code",
      "metadata": {
        "colab": {
          "base_uri": "https://localhost:8080/"
        },
        "id": "d-bCCnAYKnYz",
        "outputId": "da4804c3-d90d-47f2-917c-0c0e39e787da"
      },
      "source": [
        "df = pd.read_csv('admissions_data.csv')\n",
        "print(df.columns)\n",
        "print(df.shape)\n",
        "print(df.head(5))\n",
        "print(df.Research.value_counts())\n",
        "print(df.isnull().any())"
      ],
      "execution_count": null,
      "outputs": [
        {
          "output_type": "stream",
          "text": [
            "Index(['Serial No.', 'GRE Score', 'TOEFL Score', 'University Rating', 'SOP',\n",
            "       'LOR ', 'CGPA', 'Research', 'Chance of Admit '],\n",
            "      dtype='object')\n",
            "(500, 9)\n",
            "   Serial No.  GRE Score  TOEFL Score  ...  CGPA  Research  Chance of Admit \n",
            "0           1        337          118  ...  9.65         1              0.92\n",
            "1           2        324          107  ...  8.87         1              0.76\n",
            "2           3        316          104  ...  8.00         1              0.72\n",
            "3           4        322          110  ...  8.67         1              0.80\n",
            "4           5        314          103  ...  8.21         0              0.65\n",
            "\n",
            "[5 rows x 9 columns]\n",
            "1    280\n",
            "0    220\n",
            "Name: Research, dtype: int64\n",
            "Serial No.           False\n",
            "GRE Score            False\n",
            "TOEFL Score          False\n",
            "University Rating    False\n",
            "SOP                  False\n",
            "LOR                  False\n",
            "CGPA                 False\n",
            "Research             False\n",
            "Chance of Admit      False\n",
            "dtype: bool\n"
          ],
          "name": "stdout"
        }
      ]
    },
    {
      "cell_type": "code",
      "metadata": {
        "colab": {
          "base_uri": "https://localhost:8080/"
        },
        "id": "0Ok2b9rjU9xE",
        "outputId": "1a8f5b5c-4461-4a03-8790-f08833749659"
      },
      "source": [
        "labels = df.iloc[:,[-1]]\n",
        "features = df.iloc[:,1:-1]\n",
        "\n",
        "print(labels.head(3))\n",
        "print(features.head(3))"
      ],
      "execution_count": null,
      "outputs": [
        {
          "output_type": "stream",
          "text": [
            "   Chance of Admit \n",
            "0              0.92\n",
            "1              0.76\n",
            "2              0.72\n",
            "   GRE Score  TOEFL Score  University Rating  SOP  LOR   CGPA  Research\n",
            "0        337          118                  4  4.5   4.5  9.65         1\n",
            "1        324          107                  4  4.0   4.5  8.87         1\n",
            "2        316          104                  3  3.0   3.5  8.00         1\n"
          ],
          "name": "stdout"
        }
      ]
    },
    {
      "cell_type": "code",
      "metadata": {
        "colab": {
          "base_uri": "https://localhost:8080/"
        },
        "id": "WWeszSfgJhbu",
        "outputId": "1086a2a4-6f01-4862-f801-11b810a7726a"
      },
      "source": [
        "f_train,f_test, labels_train,labels_test = train_test_split(features, labels, test_size=0.25, random_state=1)\n",
        "\n",
        "scale = StandardScaler()\n",
        "f_train_scale = scale.fit_transform(f_train)\n",
        "f_test_scale = scale.transform(f_test)\n",
        "\n",
        "f_train_scale = pd.DataFrame(f_train_scale, columns= f_train.columns)\n",
        "f_test_scale = pd.DataFrame(f_test_scale, columns = f_test.columns)\n",
        "\n",
        "print(f_train_scale.describe())\n",
        "print(f_test_scale.describe())"
      ],
      "execution_count": null,
      "outputs": [
        {
          "output_type": "stream",
          "text": [
            "          GRE Score   TOEFL Score  ...          CGPA      Research\n",
            "count  3.750000e+02  3.750000e+02  ...  3.750000e+02  3.750000e+02\n",
            "mean   9.959441e-16  1.881458e-16  ... -1.936229e-15 -2.368476e-18\n",
            "std    1.001336e+00  1.001336e+00  ...  1.001336e+00  1.001336e+00\n",
            "min   -2.312902e+00 -2.478819e+00  ... -2.307183e+00 -1.104054e+00\n",
            "25%   -7.775571e-01 -6.968168e-01  ... -7.645172e-01 -1.104054e+00\n",
            "50%    5.591580e-02 -4.881605e-02  ... -2.237004e-02  9.057529e-01\n",
            "75%    7.577877e-01  7.611848e-01  ...  7.948258e-01  9.057529e-01\n",
            "max    2.073798e+00  2.057186e+00  ...  2.229088e+00  9.057529e-01\n",
            "\n",
            "[8 rows x 7 columns]\n",
            "        GRE Score  TOEFL Score  ...        CGPA    Research\n",
            "count  125.000000   125.000000  ...  125.000000  125.000000\n",
            "mean     0.038369    -0.070848  ...   -0.046519    0.085752\n",
            "std      0.962562     0.937270  ...    1.033674    0.991721\n",
            "min     -2.312902    -2.154818  ...   -2.974281   -1.104054\n",
            "25%     -0.558222    -0.696817  ...   -0.756179   -1.104054\n",
            "50%      0.055916    -0.210816  ...   -0.039048    0.905753\n",
            "75%      0.757788     0.599185  ...    0.711438    0.905753\n",
            "max      2.073798     1.895186  ...    2.129023    0.905753\n",
            "\n",
            "[8 rows x 7 columns]\n"
          ],
          "name": "stdout"
        }
      ]
    },
    {
      "cell_type": "code",
      "metadata": {
        "colab": {
          "base_uri": "https://localhost:8080/"
        },
        "id": "vgRgza1cM5zH",
        "outputId": "9059d60f-8375-441f-94ee-6dcf5bccf32c"
      },
      "source": [
        "model = Sequential()\n",
        "num_features = f_test_scale.shape[1]\n",
        "input = layers.InputLayer(input_shape = num_features)\n",
        "model.add(input)\n",
        "model.add(layers.Dense(16, activation='relu'))\n",
        "model.add(layers.Dense(32, activation = 'relu'))\n",
        "#model.add(layers.Dense(16, activation = 'relu'))\n",
        "model.add(layers.Dense(8, activation = 'relu'))\n",
        "model.add(layers.Dense(1))\n",
        "\n",
        "opt = keras.optimizers.Adam(learning_rate=0.05)\n",
        "model.compile(loss = 'mse', metrics = ['mae'], optimizer=opt)\n",
        "\n",
        "stop = EarlyStopping(monitor='val_loss', mode='min', verbose=1, patience = 30)\n",
        "\n",
        "model.fit(f_train_scale, labels_train, epochs=100, batch_size=32, verbose=1, validation_split=0.15, callbacks=[stop])\n",
        "val_mse, val_mae = model.evaluate(f_test_scale, labels_test, verbose=0)\n",
        "print(val_mse, val_mae)"
      ],
      "execution_count": null,
      "outputs": [
        {
          "output_type": "stream",
          "text": [
            "Epoch 1/100\n",
            "10/10 [==============================] - 1s 19ms/step - loss: 0.3367 - mae: 0.4519 - val_loss: 0.0384 - val_mae: 0.1709\n",
            "Epoch 2/100\n",
            "10/10 [==============================] - 0s 6ms/step - loss: 0.0271 - mae: 0.1351 - val_loss: 0.0194 - val_mae: 0.1257\n",
            "Epoch 3/100\n",
            "10/10 [==============================] - 0s 6ms/step - loss: 0.0138 - mae: 0.0985 - val_loss: 0.0057 - val_mae: 0.0651\n",
            "Epoch 4/100\n",
            "10/10 [==============================] - 0s 5ms/step - loss: 0.0068 - mae: 0.0650 - val_loss: 0.0046 - val_mae: 0.0537\n",
            "Epoch 5/100\n",
            "10/10 [==============================] - 0s 6ms/step - loss: 0.0051 - mae: 0.0559 - val_loss: 0.0037 - val_mae: 0.0446\n",
            "Epoch 6/100\n",
            "10/10 [==============================] - 0s 6ms/step - loss: 0.0040 - mae: 0.0466 - val_loss: 0.0035 - val_mae: 0.0435\n",
            "Epoch 7/100\n",
            "10/10 [==============================] - 0s 6ms/step - loss: 0.0042 - mae: 0.0473 - val_loss: 0.0041 - val_mae: 0.0532\n",
            "Epoch 8/100\n",
            "10/10 [==============================] - 0s 5ms/step - loss: 0.0041 - mae: 0.0496 - val_loss: 0.0039 - val_mae: 0.0502\n",
            "Epoch 9/100\n",
            "10/10 [==============================] - 0s 5ms/step - loss: 0.0039 - mae: 0.0476 - val_loss: 0.0037 - val_mae: 0.0445\n",
            "Epoch 10/100\n",
            "10/10 [==============================] - 0s 5ms/step - loss: 0.0038 - mae: 0.0456 - val_loss: 0.0035 - val_mae: 0.0457\n",
            "Epoch 11/100\n",
            "10/10 [==============================] - 0s 5ms/step - loss: 0.0037 - mae: 0.0462 - val_loss: 0.0042 - val_mae: 0.0534\n",
            "Epoch 12/100\n",
            "10/10 [==============================] - 0s 5ms/step - loss: 0.0039 - mae: 0.0479 - val_loss: 0.0034 - val_mae: 0.0432\n",
            "Epoch 13/100\n",
            "10/10 [==============================] - 0s 5ms/step - loss: 0.0040 - mae: 0.0478 - val_loss: 0.0033 - val_mae: 0.0416\n",
            "Epoch 14/100\n",
            "10/10 [==============================] - 0s 6ms/step - loss: 0.0035 - mae: 0.0416 - val_loss: 0.0034 - val_mae: 0.0429\n",
            "Epoch 15/100\n",
            "10/10 [==============================] - 0s 5ms/step - loss: 0.0035 - mae: 0.0445 - val_loss: 0.0033 - val_mae: 0.0407\n",
            "Epoch 16/100\n",
            "10/10 [==============================] - 0s 5ms/step - loss: 0.0029 - mae: 0.0393 - val_loss: 0.0037 - val_mae: 0.0474\n",
            "Epoch 17/100\n",
            "10/10 [==============================] - 0s 5ms/step - loss: 0.0033 - mae: 0.0439 - val_loss: 0.0034 - val_mae: 0.0428\n",
            "Epoch 18/100\n",
            "10/10 [==============================] - 0s 5ms/step - loss: 0.0033 - mae: 0.0412 - val_loss: 0.0052 - val_mae: 0.0637\n",
            "Epoch 19/100\n",
            "10/10 [==============================] - 0s 6ms/step - loss: 0.0046 - mae: 0.0555 - val_loss: 0.0031 - val_mae: 0.0412\n",
            "Epoch 20/100\n",
            "10/10 [==============================] - 0s 5ms/step - loss: 0.0038 - mae: 0.0467 - val_loss: 0.0034 - val_mae: 0.0426\n",
            "Epoch 21/100\n",
            "10/10 [==============================] - 0s 6ms/step - loss: 0.0035 - mae: 0.0445 - val_loss: 0.0030 - val_mae: 0.0378\n",
            "Epoch 22/100\n",
            "10/10 [==============================] - 0s 5ms/step - loss: 0.0032 - mae: 0.0415 - val_loss: 0.0037 - val_mae: 0.0458\n",
            "Epoch 23/100\n",
            "10/10 [==============================] - 0s 5ms/step - loss: 0.0033 - mae: 0.0430 - val_loss: 0.0032 - val_mae: 0.0398\n",
            "Epoch 24/100\n",
            "10/10 [==============================] - 0s 5ms/step - loss: 0.0040 - mae: 0.0475 - val_loss: 0.0038 - val_mae: 0.0486\n",
            "Epoch 25/100\n",
            "10/10 [==============================] - 0s 6ms/step - loss: 0.0037 - mae: 0.0485 - val_loss: 0.0047 - val_mae: 0.0556\n",
            "Epoch 26/100\n",
            "10/10 [==============================] - 0s 5ms/step - loss: 0.0039 - mae: 0.0468 - val_loss: 0.0036 - val_mae: 0.0487\n",
            "Epoch 27/100\n",
            "10/10 [==============================] - 0s 5ms/step - loss: 0.0040 - mae: 0.0501 - val_loss: 0.0035 - val_mae: 0.0468\n",
            "Epoch 28/100\n",
            "10/10 [==============================] - 0s 6ms/step - loss: 0.0034 - mae: 0.0439 - val_loss: 0.0031 - val_mae: 0.0396\n",
            "Epoch 29/100\n",
            "10/10 [==============================] - 0s 6ms/step - loss: 0.0034 - mae: 0.0440 - val_loss: 0.0031 - val_mae: 0.0417\n",
            "Epoch 30/100\n",
            "10/10 [==============================] - 0s 5ms/step - loss: 0.0031 - mae: 0.0439 - val_loss: 0.0035 - val_mae: 0.0471\n",
            "Epoch 31/100\n",
            "10/10 [==============================] - 0s 6ms/step - loss: 0.0033 - mae: 0.0427 - val_loss: 0.0030 - val_mae: 0.0416\n",
            "Epoch 32/100\n",
            "10/10 [==============================] - 0s 6ms/step - loss: 0.0031 - mae: 0.0427 - val_loss: 0.0032 - val_mae: 0.0423\n",
            "Epoch 33/100\n",
            "10/10 [==============================] - 0s 5ms/step - loss: 0.0031 - mae: 0.0410 - val_loss: 0.0039 - val_mae: 0.0490\n",
            "Epoch 34/100\n",
            "10/10 [==============================] - 0s 5ms/step - loss: 0.0042 - mae: 0.0499 - val_loss: 0.0032 - val_mae: 0.0461\n",
            "Epoch 35/100\n",
            "10/10 [==============================] - 0s 5ms/step - loss: 0.0047 - mae: 0.0519 - val_loss: 0.0044 - val_mae: 0.0511\n",
            "Epoch 36/100\n",
            "10/10 [==============================] - 0s 5ms/step - loss: 0.0043 - mae: 0.0506 - val_loss: 0.0029 - val_mae: 0.0417\n",
            "Epoch 37/100\n",
            "10/10 [==============================] - 0s 5ms/step - loss: 0.0033 - mae: 0.0423 - val_loss: 0.0032 - val_mae: 0.0434\n",
            "Epoch 38/100\n",
            "10/10 [==============================] - 0s 5ms/step - loss: 0.0028 - mae: 0.0403 - val_loss: 0.0034 - val_mae: 0.0455\n",
            "Epoch 39/100\n",
            "10/10 [==============================] - 0s 5ms/step - loss: 0.0034 - mae: 0.0440 - val_loss: 0.0032 - val_mae: 0.0437\n",
            "Epoch 40/100\n",
            "10/10 [==============================] - 0s 5ms/step - loss: 0.0029 - mae: 0.0418 - val_loss: 0.0028 - val_mae: 0.0378\n",
            "Epoch 41/100\n",
            "10/10 [==============================] - 0s 5ms/step - loss: 0.0025 - mae: 0.0370 - val_loss: 0.0043 - val_mae: 0.0508\n",
            "Epoch 42/100\n",
            "10/10 [==============================] - 0s 5ms/step - loss: 0.0037 - mae: 0.0471 - val_loss: 0.0033 - val_mae: 0.0472\n",
            "Epoch 43/100\n",
            "10/10 [==============================] - 0s 6ms/step - loss: 0.0033 - mae: 0.0465 - val_loss: 0.0027 - val_mae: 0.0372\n",
            "Epoch 44/100\n",
            "10/10 [==============================] - 0s 5ms/step - loss: 0.0031 - mae: 0.0414 - val_loss: 0.0029 - val_mae: 0.0379\n",
            "Epoch 45/100\n",
            "10/10 [==============================] - 0s 6ms/step - loss: 0.0025 - mae: 0.0383 - val_loss: 0.0027 - val_mae: 0.0385\n",
            "Epoch 46/100\n",
            "10/10 [==============================] - 0s 5ms/step - loss: 0.0033 - mae: 0.0436 - val_loss: 0.0037 - val_mae: 0.0469\n",
            "Epoch 47/100\n",
            "10/10 [==============================] - 0s 6ms/step - loss: 0.0027 - mae: 0.0392 - val_loss: 0.0043 - val_mae: 0.0530\n",
            "Epoch 48/100\n",
            "10/10 [==============================] - 0s 5ms/step - loss: 0.0038 - mae: 0.0462 - val_loss: 0.0031 - val_mae: 0.0389\n",
            "Epoch 49/100\n",
            "10/10 [==============================] - 0s 5ms/step - loss: 0.0026 - mae: 0.0375 - val_loss: 0.0029 - val_mae: 0.0384\n",
            "Epoch 50/100\n",
            "10/10 [==============================] - 0s 5ms/step - loss: 0.0024 - mae: 0.0356 - val_loss: 0.0042 - val_mae: 0.0542\n",
            "Epoch 51/100\n",
            "10/10 [==============================] - 0s 5ms/step - loss: 0.0028 - mae: 0.0408 - val_loss: 0.0029 - val_mae: 0.0377\n",
            "Epoch 52/100\n",
            "10/10 [==============================] - 0s 5ms/step - loss: 0.0025 - mae: 0.0374 - val_loss: 0.0034 - val_mae: 0.0464\n",
            "Epoch 53/100\n",
            "10/10 [==============================] - 0s 5ms/step - loss: 0.0026 - mae: 0.0398 - val_loss: 0.0031 - val_mae: 0.0392\n",
            "Epoch 54/100\n",
            "10/10 [==============================] - 0s 5ms/step - loss: 0.0023 - mae: 0.0366 - val_loss: 0.0037 - val_mae: 0.0476\n",
            "Epoch 55/100\n",
            "10/10 [==============================] - 0s 5ms/step - loss: 0.0025 - mae: 0.0391 - val_loss: 0.0034 - val_mae: 0.0426\n",
            "Epoch 56/100\n",
            "10/10 [==============================] - 0s 6ms/step - loss: 0.0029 - mae: 0.0401 - val_loss: 0.0039 - val_mae: 0.0501\n",
            "Epoch 57/100\n",
            "10/10 [==============================] - 0s 6ms/step - loss: 0.0027 - mae: 0.0401 - val_loss: 0.0034 - val_mae: 0.0447\n",
            "Epoch 58/100\n",
            "10/10 [==============================] - 0s 6ms/step - loss: 0.0025 - mae: 0.0369 - val_loss: 0.0037 - val_mae: 0.0457\n",
            "Epoch 59/100\n",
            "10/10 [==============================] - 0s 6ms/step - loss: 0.0024 - mae: 0.0365 - val_loss: 0.0038 - val_mae: 0.0472\n",
            "Epoch 60/100\n",
            "10/10 [==============================] - 0s 5ms/step - loss: 0.0026 - mae: 0.0378 - val_loss: 0.0039 - val_mae: 0.0465\n",
            "Epoch 61/100\n",
            "10/10 [==============================] - 0s 5ms/step - loss: 0.0024 - mae: 0.0365 - val_loss: 0.0040 - val_mae: 0.0483\n",
            "Epoch 62/100\n",
            "10/10 [==============================] - 0s 5ms/step - loss: 0.0026 - mae: 0.0390 - val_loss: 0.0041 - val_mae: 0.0505\n",
            "Epoch 63/100\n",
            "10/10 [==============================] - 0s 5ms/step - loss: 0.0022 - mae: 0.0351 - val_loss: 0.0033 - val_mae: 0.0426\n",
            "Epoch 64/100\n",
            "10/10 [==============================] - 0s 6ms/step - loss: 0.0023 - mae: 0.0365 - val_loss: 0.0039 - val_mae: 0.0480\n",
            "Epoch 65/100\n",
            "10/10 [==============================] - 0s 6ms/step - loss: 0.0021 - mae: 0.0357 - val_loss: 0.0045 - val_mae: 0.0519\n",
            "Epoch 66/100\n",
            "10/10 [==============================] - 0s 5ms/step - loss: 0.0022 - mae: 0.0365 - val_loss: 0.0048 - val_mae: 0.0545\n",
            "Epoch 67/100\n",
            "10/10 [==============================] - 0s 5ms/step - loss: 0.0032 - mae: 0.0444 - val_loss: 0.0059 - val_mae: 0.0590\n",
            "Epoch 68/100\n",
            "10/10 [==============================] - 0s 5ms/step - loss: 0.0031 - mae: 0.0439 - val_loss: 0.0042 - val_mae: 0.0497\n",
            "Epoch 69/100\n",
            "10/10 [==============================] - 0s 5ms/step - loss: 0.0034 - mae: 0.0450 - val_loss: 0.0033 - val_mae: 0.0426\n",
            "Epoch 70/100\n",
            "10/10 [==============================] - 0s 5ms/step - loss: 0.0034 - mae: 0.0429 - val_loss: 0.0048 - val_mae: 0.0543\n",
            "Epoch 71/100\n",
            "10/10 [==============================] - 0s 6ms/step - loss: 0.0031 - mae: 0.0433 - val_loss: 0.0040 - val_mae: 0.0510\n",
            "Epoch 72/100\n",
            "10/10 [==============================] - 0s 6ms/step - loss: 0.0032 - mae: 0.0452 - val_loss: 0.0034 - val_mae: 0.0410\n",
            "Epoch 73/100\n",
            "10/10 [==============================] - 0s 6ms/step - loss: 0.0024 - mae: 0.0353 - val_loss: 0.0036 - val_mae: 0.0468\n",
            "Epoch 74/100\n",
            "10/10 [==============================] - 0s 6ms/step - loss: 0.0034 - mae: 0.0437 - val_loss: 0.0035 - val_mae: 0.0468\n",
            "Epoch 75/100\n",
            "10/10 [==============================] - 0s 6ms/step - loss: 0.0030 - mae: 0.0416 - val_loss: 0.0037 - val_mae: 0.0444\n",
            "Epoch 00075: early stopping\n",
            "0.005199907347559929 0.048896823078393936\n"
          ],
          "name": "stdout"
        }
      ]
    },
    {
      "cell_type": "code",
      "metadata": {
        "colab": {
          "base_uri": "https://localhost:8080/"
        },
        "id": "NH8E9ARtNCbw",
        "outputId": "ea4e902f-2457-41d2-ac2e-86a38052695e"
      },
      "source": [
        "predictions = model.predict(f_test_scale)\n",
        "\n",
        "score = r2_score(labels_test, predictions)\n",
        "print(score)\n",
        "\n",
        "s_1 = 0.6492\n",
        "s_2 = 0.5476 #change LR from 0.005 to 0.001\n",
        "s_3 = 0.77077 #batch size 50, LR 0.005\n",
        "s_4 = 0.78166 # BS 50, LR 0.01\n",
        "s_5 = 0.7458 #BS 50 LR 0.01 validation split = 0.2\n",
        "s_6 = 0.6822 # BS 50 LR0.01 validation split =0.2 epoch=100 early stopping \n"
      ],
      "execution_count": null,
      "outputs": [
        {
          "output_type": "stream",
          "text": [
            "0.7449846687863003\n"
          ],
          "name": "stdout"
        }
      ]
    }
  ]
}